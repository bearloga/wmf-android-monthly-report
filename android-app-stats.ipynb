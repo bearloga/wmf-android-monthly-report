{
 "cells": [
  {
   "cell_type": "markdown",
   "metadata": {},
   "source": [
    "# Android app stats\n",
    "\n",
    "> May I ask if you could help me out with some (June 2019) data in this Gdoc? I’m currently working on figuring out next steps on how to increase reach/engagement for ”Suggested edits”. This data would really help to set goals and to measure impact."
   ]
  },
  {
   "cell_type": "code",
   "execution_count": 1,
   "metadata": {},
   "outputs": [
    {
     "name": "stdout",
     "output_type": "stream",
     "text": [
      "Report to be generated for June 2019"
     ]
    }
   ],
   "source": [
    "library(glue)\n",
    "library(zeallot)\n",
    "library(magrittr)\n",
    "import::from(dplyr, group_by, summarize, ungroup, mutate, select, arrange, keep_where = filter, rename, count, pull)\n",
    "import::from(tidyr, spread, gather)\n",
    "import::from(polloi, compress)\n",
    "options(digits = 2)\n",
    "\n",
    "# Intelligently figure out the year & month to calculate stats for:\n",
    "today <- lubridate::today()\n",
    "beginning_of_curr_month <- lubridate::floor_date(today, \"month\")\n",
    "last_day_of_prev_month <- beginning_of_curr_month - 1\n",
    "year <- lubridate::year(last_day_of_prev_month)\n",
    "month <- lubridate::month(last_day_of_prev_month)\n",
    "\n",
    "# Set up organization for data:\n",
    "yyyy_mm <- sprintf(\"%.0f-%02.0f\", year, month)\n",
    "data_dir <- file.path(\"data\", yyyy_mm)\n",
    "\n",
    "cat(glue(\"Report to be generated for {month.name[month]} {year}\"))"
   ]
  },
  {
   "cell_type": "markdown",
   "metadata": {},
   "source": [
    "## Overall stats\n",
    "\n",
    "- Total number of unique users that have set multiple languages in the app\n",
    "- Total number of unique users that have been logged in to Wikipedia in the app"
   ]
  },
  {
   "cell_type": "code",
   "execution_count": 2,
   "metadata": {},
   "outputs": [],
   "source": [
    "daily_stats <- readr::read_csv(file.path(data_dir, \"daily_stats.csv.gz\"), col_types = \"clciil\")"
   ]
  },
  {
   "cell_type": "code",
   "execution_count": 3,
   "metadata": {},
   "outputs": [
    {
     "data": {
      "text/html": [
       "<table>\n",
       "<caption>A tibble: 6 × 6</caption>\n",
       "<thead>\n",
       "\t<tr><th scope=col>app_install_id</th><th scope=col>is_anon</th><th scope=col>languages</th><th scope=col>days_installed</th><th scope=col>n_languages</th><th scope=col>multilang</th></tr>\n",
       "\t<tr><th scope=col>&lt;chr&gt;</th><th scope=col>&lt;lgl&gt;</th><th scope=col>&lt;chr&gt;</th><th scope=col>&lt;int&gt;</th><th scope=col>&lt;int&gt;</th><th scope=col>&lt;lgl&gt;</th></tr>\n",
       "</thead>\n",
       "<tbody>\n",
       "\t<tr><td>00000086-3080-4cf6-8ed8-9e91d7c0b7fc</td><td>TRUE</td><td>[\"ru\"]</td><td>330</td><td>1</td><td>FALSE</td></tr>\n",
       "\t<tr><td>0000079c-dc39-4595-a915-db1498ee239b</td><td>TRUE</td><td>[\"pt\"]</td><td>966</td><td>1</td><td>FALSE</td></tr>\n",
       "\t<tr><td>00000b0c-cfea-4866-a6e8-9ab37de4d7ac</td><td>TRUE</td><td>[\"en\"]</td><td>981</td><td>1</td><td>FALSE</td></tr>\n",
       "\t<tr><td>00000ce8-4583-47e8-ab10-b4b8107c836f</td><td>TRUE</td><td>[\"en\"]</td><td>516</td><td>1</td><td>FALSE</td></tr>\n",
       "\t<tr><td>00000e5a-98d1-49bc-868f-cf5f2f30c4ff</td><td>TRUE</td><td>[\"es\"]</td><td>656</td><td>1</td><td>FALSE</td></tr>\n",
       "\t<tr><td>00001144-142b-44fb-acaf-917adee89b7e</td><td>TRUE</td><td>[\"en\"]</td><td>695</td><td>1</td><td>FALSE</td></tr>\n",
       "</tbody>\n",
       "</table>\n"
      ],
      "text/latex": [
       "A tibble: 6 × 6\n",
       "\\begin{tabular}{r|llllll}\n",
       " app\\_install\\_id & is\\_anon & languages & days\\_installed & n\\_languages & multilang\\\\\n",
       " <chr> & <lgl> & <chr> & <int> & <int> & <lgl>\\\\\n",
       "\\hline\n",
       "\t 00000086-3080-4cf6-8ed8-9e91d7c0b7fc & TRUE & {[}\"ru\"{]} & 330 & 1 & FALSE\\\\\n",
       "\t 0000079c-dc39-4595-a915-db1498ee239b & TRUE & {[}\"pt\"{]} & 966 & 1 & FALSE\\\\\n",
       "\t 00000b0c-cfea-4866-a6e8-9ab37de4d7ac & TRUE & {[}\"en\"{]} & 981 & 1 & FALSE\\\\\n",
       "\t 00000ce8-4583-47e8-ab10-b4b8107c836f & TRUE & {[}\"en\"{]} & 516 & 1 & FALSE\\\\\n",
       "\t 00000e5a-98d1-49bc-868f-cf5f2f30c4ff & TRUE & {[}\"es\"{]} & 656 & 1 & FALSE\\\\\n",
       "\t 00001144-142b-44fb-acaf-917adee89b7e & TRUE & {[}\"en\"{]} & 695 & 1 & FALSE\\\\\n",
       "\\end{tabular}\n"
      ],
      "text/markdown": [
       "\n",
       "A tibble: 6 × 6\n",
       "\n",
       "| app_install_id &lt;chr&gt; | is_anon &lt;lgl&gt; | languages &lt;chr&gt; | days_installed &lt;int&gt; | n_languages &lt;int&gt; | multilang &lt;lgl&gt; |\n",
       "|---|---|---|---|---|---|\n",
       "| 00000086-3080-4cf6-8ed8-9e91d7c0b7fc | TRUE | [\"ru\"] | 330 | 1 | FALSE |\n",
       "| 0000079c-dc39-4595-a915-db1498ee239b | TRUE | [\"pt\"] | 966 | 1 | FALSE |\n",
       "| 00000b0c-cfea-4866-a6e8-9ab37de4d7ac | TRUE | [\"en\"] | 981 | 1 | FALSE |\n",
       "| 00000ce8-4583-47e8-ab10-b4b8107c836f | TRUE | [\"en\"] | 516 | 1 | FALSE |\n",
       "| 00000e5a-98d1-49bc-868f-cf5f2f30c4ff | TRUE | [\"es\"] | 656 | 1 | FALSE |\n",
       "| 00001144-142b-44fb-acaf-917adee89b7e | TRUE | [\"en\"] | 695 | 1 | FALSE |\n",
       "\n"
      ],
      "text/plain": [
       "  app_install_id                       is_anon languages days_installed\n",
       "1 00000086-3080-4cf6-8ed8-9e91d7c0b7fc TRUE    [\"ru\"]    330           \n",
       "2 0000079c-dc39-4595-a915-db1498ee239b TRUE    [\"pt\"]    966           \n",
       "3 00000b0c-cfea-4866-a6e8-9ab37de4d7ac TRUE    [\"en\"]    981           \n",
       "4 00000ce8-4583-47e8-ab10-b4b8107c836f TRUE    [\"en\"]    516           \n",
       "5 00000e5a-98d1-49bc-868f-cf5f2f30c4ff TRUE    [\"es\"]    656           \n",
       "6 00001144-142b-44fb-acaf-917adee89b7e TRUE    [\"en\"]    695           \n",
       "  n_languages multilang\n",
       "1 1           FALSE    \n",
       "2 1           FALSE    \n",
       "3 1           FALSE    \n",
       "4 1           FALSE    \n",
       "5 1           FALSE    \n",
       "6 1           FALSE    "
      ]
     },
     "metadata": {},
     "output_type": "display_data"
    }
   ],
   "source": [
    "head(daily_stats)"
   ]
  },
  {
   "cell_type": "code",
   "execution_count": 4,
   "metadata": {},
   "outputs": [
    {
     "data": {
      "text/html": [
       "<dl class=dl-horizontal>\n",
       "\t<dt>multilingual</dt>\n",
       "\t\t<dd>'25.9% (1.1M out of 4.2M)'</dd>\n",
       "\t<dt>anon</dt>\n",
       "\t\t<dd>'95.0% (4M out of 4.2M)'</dd>\n",
       "\t<dt>logged-in</dt>\n",
       "\t\t<dd>'5.0% (207.8K out of 4.2M)'</dd>\n",
       "</dl>\n"
      ],
      "text/latex": [
       "\\begin{description*}\n",
       "\\item[multilingual] '25.9\\% (1.1M out of 4.2M)'\n",
       "\\item[anon] '95.0\\% (4M out of 4.2M)'\n",
       "\\item[logged-in] '5.0\\% (207.8K out of 4.2M)'\n",
       "\\end{description*}\n"
      ],
      "text/markdown": [
       "multilingual\n",
       ":   '25.9% (1.1M out of 4.2M)'anon\n",
       ":   '95.0% (4M out of 4.2M)'logged-in\n",
       ":   '5.0% (207.8K out of 4.2M)'\n",
       "\n"
      ],
      "text/plain": [
       "               multilingual                        anon \n",
       " \"25.9% (1.1M out of 4.2M)\"    \"95.0% (4M out of 4.2M)\" \n",
       "                  logged-in \n",
       "\"5.0% (207.8K out of 4.2M)\" "
      ]
     },
     "metadata": {},
     "output_type": "display_data"
    }
   ],
   "source": [
    "# Compute stats for the metrics table at the end:\n",
    "multilang_stat <- daily_stats %>%\n",
    "    count(multilang) %>%\n",
    "    spread(multilang, n) %>%\n",
    "    mutate(prop = `TRUE` / (`TRUE` + `FALSE`)) %>%\n",
    "    mutate(summarized = sprintf(\"%.1f%% (%s out of %s)\", 100 * prop, compress(`TRUE`, 1), compress(`TRUE` + `FALSE`, 1))) %>%\n",
    "    pull(summarized)\n",
    "\n",
    "anon_stat <- daily_stats %>%\n",
    "    count(is_anon) %>%\n",
    "    spread(is_anon, n) %>%\n",
    "    mutate(prop = `TRUE` / (`TRUE` + `FALSE`)) %>%\n",
    "    mutate(summarized = sprintf(\"%.1f%% (%s out of %s)\", 100 * prop, compress(`TRUE`, 1), compress(`TRUE` + `FALSE`, 1))) %>%\n",
    "    pull(summarized)\n",
    "\n",
    "loggedin_stat <- daily_stats %>%\n",
    "    count(is_anon) %>%\n",
    "    spread(is_anon, n) %>%\n",
    "    mutate(prop = `FALSE` / (`TRUE` + `FALSE`)) %>%\n",
    "    mutate(summarized = sprintf(\"%.1f%% (%s out of %s)\", 100 * prop, compress(`FALSE`, 1), compress(`TRUE` + `FALSE`, 1))) %>%\n",
    "    pull(summarized)\n",
    "\n",
    "c(\"multilingual\" = multilang_stat, \"anon\" = anon_stat, \"logged-in\" = loggedin_stat)"
   ]
  },
  {
   "cell_type": "markdown",
   "metadata": {},
   "source": [
    "## Session length\n",
    "\n",
    "- Average session time per user\n",
    "- Total number of unique users who were at least on one article page"
   ]
  },
  {
   "cell_type": "code",
   "execution_count": 5,
   "metadata": {
    "scrolled": true
   },
   "outputs": [
    {
     "name": "stderr",
     "output_type": "stream",
     "text": [
      "Taking input= as a system command ('zcat data/2019-06/session_summaries.csv.gz') and a variable has been used in the expression passed to `input=`. Please use fread(cmd=...). There is a security concern if you are creating an app, and the app could have a malicious user, and the app is not running in a secure envionment; e.g. the app is running as root. Please read item 5 in the NEWS file for v1.11.6 for more information and for the option to suppress this message.\n"
     ]
    }
   ],
   "source": [
    "session_summaries <- data.table::fread(paste(\"zcat\", file.path(data_dir, \"session_summaries.csv.gz\")), key = c(\"app_install_id\", \"date\"))\n",
    "session_summaries$reading_user <- session_summaries$n_reading_sessions > 0"
   ]
  },
  {
   "cell_type": "code",
   "execution_count": 6,
   "metadata": {},
   "outputs": [
    {
     "data": {
      "text/html": [
       "<table>\n",
       "<caption>A data.table: 6 × 8</caption>\n",
       "<thead>\n",
       "\t<tr><th scope=col>app_install_id</th><th scope=col>n_total_sessions</th><th scope=col>n_reading_sessions</th><th scope=col>total_session_length</th><th scope=col>total_reading_length</th><th scope=col>n_languages</th><th scope=col>date</th><th scope=col>reading_user</th></tr>\n",
       "\t<tr><th scope=col>&lt;chr&gt;</th><th scope=col>&lt;int&gt;</th><th scope=col>&lt;int&gt;</th><th scope=col>&lt;int&gt;</th><th scope=col>&lt;int&gt;</th><th scope=col>&lt;int&gt;</th><th scope=col>&lt;chr&gt;</th><th scope=col>&lt;lgl&gt;</th></tr>\n",
       "</thead>\n",
       "<tbody>\n",
       "\t<tr><td>00000086-3080-4cf6-8ed8-9e91d7c0b7fc</td><td>1</td><td>1</td><td>548</td><td>548</td><td>1</td><td>2019-06-04</td><td> TRUE</td></tr>\n",
       "\t<tr><td>00000086-3080-4cf6-8ed8-9e91d7c0b7fc</td><td>1</td><td>1</td><td> 76</td><td> 76</td><td>1</td><td>2019-06-19</td><td> TRUE</td></tr>\n",
       "\t<tr><td>00000086-3080-4cf6-8ed8-9e91d7c0b7fc</td><td>2</td><td>2</td><td>453</td><td>453</td><td>1</td><td>2019-06-25</td><td> TRUE</td></tr>\n",
       "\t<tr><td>00000086-3080-4cf6-8ed8-9e91d7c0b7fc</td><td>1</td><td>1</td><td> 77</td><td> 77</td><td>1</td><td>2019-06-26</td><td> TRUE</td></tr>\n",
       "\t<tr><td>00000086-3080-4cf6-8ed8-9e91d7c0b7fc</td><td>1</td><td>1</td><td>916</td><td>916</td><td>1</td><td>2019-06-29</td><td> TRUE</td></tr>\n",
       "\t<tr><td>0000079c-dc39-4595-a915-db1498ee239b</td><td>8</td><td>0</td><td>  0</td><td>  0</td><td>1</td><td>2019-06-01</td><td>FALSE</td></tr>\n",
       "</tbody>\n",
       "</table>\n"
      ],
      "text/latex": [
       "A data.table: 6 × 8\n",
       "\\begin{tabular}{r|llllllll}\n",
       " app\\_install\\_id & n\\_total\\_sessions & n\\_reading\\_sessions & total\\_session\\_length & total\\_reading\\_length & n\\_languages & date & reading\\_user\\\\\n",
       " <chr> & <int> & <int> & <int> & <int> & <int> & <chr> & <lgl>\\\\\n",
       "\\hline\n",
       "\t 00000086-3080-4cf6-8ed8-9e91d7c0b7fc & 1 & 1 & 548 & 548 & 1 & 2019-06-04 &  TRUE\\\\\n",
       "\t 00000086-3080-4cf6-8ed8-9e91d7c0b7fc & 1 & 1 &  76 &  76 & 1 & 2019-06-19 &  TRUE\\\\\n",
       "\t 00000086-3080-4cf6-8ed8-9e91d7c0b7fc & 2 & 2 & 453 & 453 & 1 & 2019-06-25 &  TRUE\\\\\n",
       "\t 00000086-3080-4cf6-8ed8-9e91d7c0b7fc & 1 & 1 &  77 &  77 & 1 & 2019-06-26 &  TRUE\\\\\n",
       "\t 00000086-3080-4cf6-8ed8-9e91d7c0b7fc & 1 & 1 & 916 & 916 & 1 & 2019-06-29 &  TRUE\\\\\n",
       "\t 0000079c-dc39-4595-a915-db1498ee239b & 8 & 0 &   0 &   0 & 1 & 2019-06-01 & FALSE\\\\\n",
       "\\end{tabular}\n"
      ],
      "text/markdown": [
       "\n",
       "A data.table: 6 × 8\n",
       "\n",
       "| app_install_id &lt;chr&gt; | n_total_sessions &lt;int&gt; | n_reading_sessions &lt;int&gt; | total_session_length &lt;int&gt; | total_reading_length &lt;int&gt; | n_languages &lt;int&gt; | date &lt;chr&gt; | reading_user &lt;lgl&gt; |\n",
       "|---|---|---|---|---|---|---|---|\n",
       "| 00000086-3080-4cf6-8ed8-9e91d7c0b7fc | 1 | 1 | 548 | 548 | 1 | 2019-06-04 |  TRUE |\n",
       "| 00000086-3080-4cf6-8ed8-9e91d7c0b7fc | 1 | 1 |  76 |  76 | 1 | 2019-06-19 |  TRUE |\n",
       "| 00000086-3080-4cf6-8ed8-9e91d7c0b7fc | 2 | 2 | 453 | 453 | 1 | 2019-06-25 |  TRUE |\n",
       "| 00000086-3080-4cf6-8ed8-9e91d7c0b7fc | 1 | 1 |  77 |  77 | 1 | 2019-06-26 |  TRUE |\n",
       "| 00000086-3080-4cf6-8ed8-9e91d7c0b7fc | 1 | 1 | 916 | 916 | 1 | 2019-06-29 |  TRUE |\n",
       "| 0000079c-dc39-4595-a915-db1498ee239b | 8 | 0 |   0 |   0 | 1 | 2019-06-01 | FALSE |\n",
       "\n"
      ],
      "text/plain": [
       "  app_install_id                       n_total_sessions n_reading_sessions\n",
       "1 00000086-3080-4cf6-8ed8-9e91d7c0b7fc 1                1                 \n",
       "2 00000086-3080-4cf6-8ed8-9e91d7c0b7fc 1                1                 \n",
       "3 00000086-3080-4cf6-8ed8-9e91d7c0b7fc 2                2                 \n",
       "4 00000086-3080-4cf6-8ed8-9e91d7c0b7fc 1                1                 \n",
       "5 00000086-3080-4cf6-8ed8-9e91d7c0b7fc 1                1                 \n",
       "6 0000079c-dc39-4595-a915-db1498ee239b 8                0                 \n",
       "  total_session_length total_reading_length n_languages date       reading_user\n",
       "1 548                  548                  1           2019-06-04  TRUE       \n",
       "2  76                   76                  1           2019-06-19  TRUE       \n",
       "3 453                  453                  1           2019-06-25  TRUE       \n",
       "4  77                   77                  1           2019-06-26  TRUE       \n",
       "5 916                  916                  1           2019-06-29  TRUE       \n",
       "6   0                    0                  1           2019-06-01 FALSE       "
      ]
     },
     "metadata": {},
     "output_type": "display_data"
    }
   ],
   "source": [
    "head(session_summaries)"
   ]
  },
  {
   "cell_type": "code",
   "execution_count": 7,
   "metadata": {},
   "outputs": [
    {
     "data": {
      "text/html": [
       "2324316"
      ],
      "text/latex": [
       "2324316"
      ],
      "text/markdown": [
       "2324316"
      ],
      "text/plain": [
       "[1] 2324316"
      ]
     },
     "metadata": {},
     "output_type": "display_data"
    }
   ],
   "source": [
    "dau <- session_summaries[, list(n_users = .N), by = \"date\"]\n",
    "ceiling(mean(dau$n_users))"
   ]
  },
  {
   "cell_type": "code",
   "execution_count": 8,
   "metadata": {},
   "outputs": [
    {
     "data": {
      "text/html": [
       "4519789"
      ],
      "text/latex": [
       "4519789"
      ],
      "text/markdown": [
       "4519789"
      ],
      "text/plain": [
       "[1] 4519789"
      ]
     },
     "metadata": {},
     "output_type": "display_data"
    }
   ],
   "source": [
    "mau <- session_summaries[, list(n_users = length(unique(app_install_id))),]$n_users\n",
    "mau"
   ]
  },
  {
   "cell_type": "code",
   "execution_count": 9,
   "metadata": {},
   "outputs": [
    {
     "data": {
      "text/html": [
       "'1m 19s'"
      ],
      "text/latex": [
       "'1m 19s'"
      ],
      "text/markdown": [
       "'1m 19s'"
      ],
      "text/plain": [
       "[1] \"1m 19s\""
      ]
     },
     "metadata": {},
     "output_type": "display_data"
    }
   ],
   "source": [
    "avg_session_time <- mean(session_summaries$total_session_length / session_summaries$n_total_sessions) %>%\n",
    "    round %>%\n",
    "    lubridate::seconds_to_period() %>%\n",
    "    tolower\n",
    "avg_session_time"
   ]
  },
  {
   "cell_type": "code",
   "execution_count": 10,
   "metadata": {},
   "outputs": [
    {
     "data": {
      "text/html": [
       "'71.5% (3.2M out of 4.5M)'"
      ],
      "text/latex": [
       "'71.5\\% (3.2M out of 4.5M)'"
      ],
      "text/markdown": [
       "'71.5% (3.2M out of 4.5M)'"
      ],
      "text/plain": [
       "[1] \"71.5% (3.2M out of 4.5M)\""
      ]
     },
     "metadata": {},
     "output_type": "display_data"
    }
   ],
   "source": [
    "readers_monthly <- session_summaries[, list(reading_user = any(reading_user)), by = \"app_install_id\"][, list(n = .N), by = \"reading_user\"] %>%\n",
    "    as.data.frame() %>%\n",
    "    spread(reading_user, n) %>%\n",
    "    mutate(prop = `TRUE` / (`TRUE` + `FALSE`)) %>%\n",
    "    mutate(summarized = sprintf(\"%.1f%% (%s out of %s)\", 100 * prop, compress(`TRUE`, 1), compress(`TRUE` + `FALSE`, 1))) %>%\n",
    "    pull(summarized)\n",
    "readers_monthly"
   ]
  },
  {
   "cell_type": "code",
   "execution_count": 11,
   "metadata": {},
   "outputs": [
    {
     "data": {
      "text/html": [
       "'25.5% (593.7K out of 2.3M)'"
      ],
      "text/latex": [
       "'25.5\\% (593.7K out of 2.3M)'"
      ],
      "text/markdown": [
       "'25.5% (593.7K out of 2.3M)'"
      ],
      "text/plain": [
       "[1] \"25.5% (593.7K out of 2.3M)\""
      ]
     },
     "metadata": {},
     "output_type": "display_data"
    }
   ],
   "source": [
    "readers_daily <- session_summaries[, list(n = .N), by = c(\"date\", \"reading_user\")] %>%\n",
    "    as.data.frame() %>%\n",
    "    spread(reading_user, n) %>%\n",
    "    summarize(`TRUE` = mean(`TRUE`), `FALSE` = mean(`FALSE`)) %>%\n",
    "    mutate(prop = `TRUE` / (`TRUE` + `FALSE`)) %>%\n",
    "    mutate(summarized = sprintf(\"%.1f%% (%s out of %s)\", 100 * prop, compress(`TRUE`, 1), compress(`TRUE` + `FALSE`, 1))) %>%\n",
    "    pull(summarized)\n",
    "readers_daily"
   ]
  },
  {
   "cell_type": "markdown",
   "metadata": {},
   "source": [
    "## Reading\n",
    "\n",
    "Average session time of users on an article page"
   ]
  },
  {
   "cell_type": "code",
   "execution_count": 12,
   "metadata": {},
   "outputs": [],
   "source": [
    "reading_time <- readr::read_csv(file.path(data_dir, \"reading_time.csv\"), col_types = \"cd\")"
   ]
  },
  {
   "cell_type": "code",
   "execution_count": 13,
   "metadata": {
    "scrolled": true
   },
   "outputs": [
    {
     "data": {
      "text/html": [
       "<table>\n",
       "<caption>A tibble: 6 × 2</caption>\n",
       "<thead>\n",
       "\t<tr><th scope=col>app_install_id</th><th scope=col>avg_reading_time</th></tr>\n",
       "\t<tr><th scope=col>&lt;chr&gt;</th><th scope=col>&lt;dbl&gt;</th></tr>\n",
       "</thead>\n",
       "<tbody>\n",
       "\t<tr><td>0011975e-36b1-4061-a198-264dda5b6fca</td><td>  1.8</td></tr>\n",
       "\t<tr><td>001f2431-5624-469d-988e-b595039233d6</td><td> 59.0</td></tr>\n",
       "\t<tr><td>00208159-3092-4df1-9ebb-e2058aa5f872</td><td>  4.3</td></tr>\n",
       "\t<tr><td>00210a6f-fc87-412d-bdaf-a99b668019a4</td><td>309.0</td></tr>\n",
       "\t<tr><td>00217cf6-965b-4178-8b7f-f8cc29c3b157</td><td>  1.7</td></tr>\n",
       "\t<tr><td>0027e82b-f744-48ef-9def-5b1c4464f823</td><td>  2.5</td></tr>\n",
       "</tbody>\n",
       "</table>\n"
      ],
      "text/latex": [
       "A tibble: 6 × 2\n",
       "\\begin{tabular}{r|ll}\n",
       " app\\_install\\_id & avg\\_reading\\_time\\\\\n",
       " <chr> & <dbl>\\\\\n",
       "\\hline\n",
       "\t 0011975e-36b1-4061-a198-264dda5b6fca &   1.8\\\\\n",
       "\t 001f2431-5624-469d-988e-b595039233d6 &  59.0\\\\\n",
       "\t 00208159-3092-4df1-9ebb-e2058aa5f872 &   4.3\\\\\n",
       "\t 00210a6f-fc87-412d-bdaf-a99b668019a4 & 309.0\\\\\n",
       "\t 00217cf6-965b-4178-8b7f-f8cc29c3b157 &   1.7\\\\\n",
       "\t 0027e82b-f744-48ef-9def-5b1c4464f823 &   2.5\\\\\n",
       "\\end{tabular}\n"
      ],
      "text/markdown": [
       "\n",
       "A tibble: 6 × 2\n",
       "\n",
       "| app_install_id &lt;chr&gt; | avg_reading_time &lt;dbl&gt; |\n",
       "|---|---|\n",
       "| 0011975e-36b1-4061-a198-264dda5b6fca |   1.8 |\n",
       "| 001f2431-5624-469d-988e-b595039233d6 |  59.0 |\n",
       "| 00208159-3092-4df1-9ebb-e2058aa5f872 |   4.3 |\n",
       "| 00210a6f-fc87-412d-bdaf-a99b668019a4 | 309.0 |\n",
       "| 00217cf6-965b-4178-8b7f-f8cc29c3b157 |   1.7 |\n",
       "| 0027e82b-f744-48ef-9def-5b1c4464f823 |   2.5 |\n",
       "\n"
      ],
      "text/plain": [
       "  app_install_id                       avg_reading_time\n",
       "1 0011975e-36b1-4061-a198-264dda5b6fca   1.8           \n",
       "2 001f2431-5624-469d-988e-b595039233d6  59.0           \n",
       "3 00208159-3092-4df1-9ebb-e2058aa5f872   4.3           \n",
       "4 00210a6f-fc87-412d-bdaf-a99b668019a4 309.0           \n",
       "5 00217cf6-965b-4178-8b7f-f8cc29c3b157   1.7           \n",
       "6 0027e82b-f744-48ef-9def-5b1c4464f823   2.5           "
      ]
     },
     "metadata": {},
     "output_type": "display_data"
    }
   ],
   "source": [
    "head(reading_time)"
   ]
  },
  {
   "cell_type": "code",
   "execution_count": 14,
   "metadata": {},
   "outputs": [],
   "source": [
    "library(ggplot2)"
   ]
  },
  {
   "cell_type": "code",
   "execution_count": 15,
   "metadata": {},
   "outputs": [
    {
     "data": {
      "image/png": "[encoded data removed]",
      "text/plain": [
       "plot without title"
      ]
     },
     "metadata": {},
     "output_type": "display_data"
    }
   ],
   "source": [
    "options(repr.plot.width = 9, repr.plot.height = 3)\n",
    "reading_time %>%\n",
    "    keep_where(avg_reading_time > 0) %>%\n",
    "    ggplot(aes(x = avg_reading_time)) +\n",
    "    geom_histogram(bins = 30) +\n",
    "    scale_x_log10(label = function(x) {\n",
    "        y <- tolower(lubridate::seconds_to_period(round(x)))\n",
    "        z <- gsub(\" 0[hms]\", \"\", y)\n",
    "        return(z)\n",
    "    }, breaks = c(1, 5, 10, 30, 60, 300, 600, 3600)) +\n",
    "    scale_y_continuous(name = NULL, breaks = NULL, minor_breaks = NULL) +\n",
    "    theme_minimal()"
   ]
  },
  {
   "cell_type": "markdown",
   "metadata": {},
   "source": [
    "## Edits\n",
    "\n",
    "- Total number of unique users that have made an edit\n",
    "- Average session time of users that made an edit"
   ]
  },
  {
   "cell_type": "code",
   "execution_count": 16,
   "metadata": {
    "scrolled": true
   },
   "outputs": [],
   "source": [
    "edit_session_summaries <- readr::read_csv(file.path(data_dir, \"edit_session_summaries.csv\"), col_types = \"ccclllD\")"
   ]
  },
  {
   "cell_type": "code",
   "execution_count": 17,
   "metadata": {},
   "outputs": [
    {
     "data": {
      "text/html": [
       "<table>\n",
       "<caption>A tibble: 6 × 7</caption>\n",
       "<thead>\n",
       "\t<tr><th scope=col>app_install_id</th><th scope=col>edit_session_token</th><th scope=col>edit_type</th><th scope=col>is_anon</th><th scope=col>edit_save_attempted</th><th scope=col>edit_session_completed</th><th scope=col>date</th></tr>\n",
       "\t<tr><th scope=col>&lt;chr&gt;</th><th scope=col>&lt;chr&gt;</th><th scope=col>&lt;chr&gt;</th><th scope=col>&lt;lgl&gt;</th><th scope=col>&lt;lgl&gt;</th><th scope=col>&lt;lgl&gt;</th><th scope=col>&lt;date&gt;</th></tr>\n",
       "</thead>\n",
       "<tbody>\n",
       "\t<tr><td>00115b36-b38f-49e6-b7a9-2532784d9be5</td><td>eec0435b-567b-4394-b34e-559a49fbe843</td><td>article</td><td> TRUE</td><td>FALSE</td><td>FALSE</td><td>2019-06-01</td></tr>\n",
       "\t<tr><td>003b3df5-54a6-4a35-9561-44ed6eaa8371</td><td>cc1e068e-1b74-4188-975b-137935291d8d</td><td>article</td><td> TRUE</td><td>FALSE</td><td>FALSE</td><td>2019-06-01</td></tr>\n",
       "\t<tr><td>00436994-2adb-48dd-ac3f-a3a60e6b1023</td><td>908362f9-237f-427c-a6c4-680e8dfb1c3f</td><td>article</td><td> TRUE</td><td>FALSE</td><td>FALSE</td><td>2019-06-01</td></tr>\n",
       "\t<tr><td>004532f7-df1b-4e4f-9f7f-4d0aa5b2aa03</td><td>cc3be8b1-83e0-463a-ab46-9ce1d10d4292</td><td>article</td><td> TRUE</td><td>FALSE</td><td>FALSE</td><td>2019-06-01</td></tr>\n",
       "\t<tr><td>004754b2-0cdc-44a0-986b-fcf5a310e965</td><td>f1e49853-2548-44e8-bb6a-655e8a87db39</td><td>article</td><td>FALSE</td><td> TRUE</td><td> TRUE</td><td>2019-06-01</td></tr>\n",
       "\t<tr><td>004d620a-4ad9-41eb-8d18-aa212e5ae4b5</td><td>8d672fde-43ea-4def-a438-3854016a0470</td><td>article</td><td> TRUE</td><td>FALSE</td><td>FALSE</td><td>2019-06-01</td></tr>\n",
       "</tbody>\n",
       "</table>\n"
      ],
      "text/latex": [
       "A tibble: 6 × 7\n",
       "\\begin{tabular}{r|lllllll}\n",
       " app\\_install\\_id & edit\\_session\\_token & edit\\_type & is\\_anon & edit\\_save\\_attempted & edit\\_session\\_completed & date\\\\\n",
       " <chr> & <chr> & <chr> & <lgl> & <lgl> & <lgl> & <date>\\\\\n",
       "\\hline\n",
       "\t 00115b36-b38f-49e6-b7a9-2532784d9be5 & eec0435b-567b-4394-b34e-559a49fbe843 & article &  TRUE & FALSE & FALSE & 2019-06-01\\\\\n",
       "\t 003b3df5-54a6-4a35-9561-44ed6eaa8371 & cc1e068e-1b74-4188-975b-137935291d8d & article &  TRUE & FALSE & FALSE & 2019-06-01\\\\\n",
       "\t 00436994-2adb-48dd-ac3f-a3a60e6b1023 & 908362f9-237f-427c-a6c4-680e8dfb1c3f & article &  TRUE & FALSE & FALSE & 2019-06-01\\\\\n",
       "\t 004532f7-df1b-4e4f-9f7f-4d0aa5b2aa03 & cc3be8b1-83e0-463a-ab46-9ce1d10d4292 & article &  TRUE & FALSE & FALSE & 2019-06-01\\\\\n",
       "\t 004754b2-0cdc-44a0-986b-fcf5a310e965 & f1e49853-2548-44e8-bb6a-655e8a87db39 & article & FALSE &  TRUE &  TRUE & 2019-06-01\\\\\n",
       "\t 004d620a-4ad9-41eb-8d18-aa212e5ae4b5 & 8d672fde-43ea-4def-a438-3854016a0470 & article &  TRUE & FALSE & FALSE & 2019-06-01\\\\\n",
       "\\end{tabular}\n"
      ],
      "text/markdown": [
       "\n",
       "A tibble: 6 × 7\n",
       "\n",
       "| app_install_id &lt;chr&gt; | edit_session_token &lt;chr&gt; | edit_type &lt;chr&gt; | is_anon &lt;lgl&gt; | edit_save_attempted &lt;lgl&gt; | edit_session_completed &lt;lgl&gt; | date &lt;date&gt; |\n",
       "|---|---|---|---|---|---|---|\n",
       "| 00115b36-b38f-49e6-b7a9-2532784d9be5 | eec0435b-567b-4394-b34e-559a49fbe843 | article |  TRUE | FALSE | FALSE | 2019-06-01 |\n",
       "| 003b3df5-54a6-4a35-9561-44ed6eaa8371 | cc1e068e-1b74-4188-975b-137935291d8d | article |  TRUE | FALSE | FALSE | 2019-06-01 |\n",
       "| 00436994-2adb-48dd-ac3f-a3a60e6b1023 | 908362f9-237f-427c-a6c4-680e8dfb1c3f | article |  TRUE | FALSE | FALSE | 2019-06-01 |\n",
       "| 004532f7-df1b-4e4f-9f7f-4d0aa5b2aa03 | cc3be8b1-83e0-463a-ab46-9ce1d10d4292 | article |  TRUE | FALSE | FALSE | 2019-06-01 |\n",
       "| 004754b2-0cdc-44a0-986b-fcf5a310e965 | f1e49853-2548-44e8-bb6a-655e8a87db39 | article | FALSE |  TRUE |  TRUE | 2019-06-01 |\n",
       "| 004d620a-4ad9-41eb-8d18-aa212e5ae4b5 | 8d672fde-43ea-4def-a438-3854016a0470 | article |  TRUE | FALSE | FALSE | 2019-06-01 |\n",
       "\n"
      ],
      "text/plain": [
       "  app_install_id                       edit_session_token                  \n",
       "1 00115b36-b38f-49e6-b7a9-2532784d9be5 eec0435b-567b-4394-b34e-559a49fbe843\n",
       "2 003b3df5-54a6-4a35-9561-44ed6eaa8371 cc1e068e-1b74-4188-975b-137935291d8d\n",
       "3 00436994-2adb-48dd-ac3f-a3a60e6b1023 908362f9-237f-427c-a6c4-680e8dfb1c3f\n",
       "4 004532f7-df1b-4e4f-9f7f-4d0aa5b2aa03 cc3be8b1-83e0-463a-ab46-9ce1d10d4292\n",
       "5 004754b2-0cdc-44a0-986b-fcf5a310e965 f1e49853-2548-44e8-bb6a-655e8a87db39\n",
       "6 004d620a-4ad9-41eb-8d18-aa212e5ae4b5 8d672fde-43ea-4def-a438-3854016a0470\n",
       "  edit_type is_anon edit_save_attempted edit_session_completed date      \n",
       "1 article    TRUE   FALSE               FALSE                  2019-06-01\n",
       "2 article    TRUE   FALSE               FALSE                  2019-06-01\n",
       "3 article    TRUE   FALSE               FALSE                  2019-06-01\n",
       "4 article    TRUE   FALSE               FALSE                  2019-06-01\n",
       "5 article   FALSE    TRUE                TRUE                  2019-06-01\n",
       "6 article    TRUE   FALSE               FALSE                  2019-06-01"
      ]
     },
     "metadata": {},
     "output_type": "display_data"
    }
   ],
   "source": [
    "head(edit_session_summaries)"
   ]
  },
  {
   "cell_type": "code",
   "execution_count": 18,
   "metadata": {},
   "outputs": [],
   "source": [
    "clientside_contributions <- edit_session_summaries %>%\n",
    "    keep_where(edit_session_completed) %>%\n",
    "    count(app_install_id, edit_type) %>%\n",
    "    spread(edit_type, n, fill = 0) %>%\n",
    "    mutate(total = article + `title description`)"
   ]
  },
  {
   "cell_type": "code",
   "execution_count": 19,
   "metadata": {},
   "outputs": [
    {
     "data": {
      "text/html": [
       "<table>\n",
       "<caption>A tibble: 6 × 5</caption>\n",
       "<thead>\n",
       "\t<tr><th scope=col>app_install_id</th><th scope=col>article</th><th scope=col>other</th><th scope=col>title description</th><th scope=col>total</th></tr>\n",
       "\t<tr><th scope=col>&lt;chr&gt;</th><th scope=col>&lt;dbl&gt;</th><th scope=col>&lt;dbl&gt;</th><th scope=col>&lt;dbl&gt;</th><th scope=col>&lt;dbl&gt;</th></tr>\n",
       "</thead>\n",
       "<tbody>\n",
       "\t<tr><td>0001a2c6-b1a4-46fb-94cf-e9a4a8ace233</td><td>1</td><td>0</td><td>0</td><td>1</td></tr>\n",
       "\t<tr><td>0002ebbf-b2ee-4547-9e2f-4cbe5e7d54f5</td><td>0</td><td>0</td><td>1</td><td>1</td></tr>\n",
       "\t<tr><td>000650a3-7d86-4dcf-91c5-33190d53066c</td><td>1</td><td>1</td><td>0</td><td>1</td></tr>\n",
       "\t<tr><td>0006ed7f-9a63-4c62-bf6b-30d599d626e9</td><td>1</td><td>0</td><td>0</td><td>1</td></tr>\n",
       "\t<tr><td>0009681a-1fd9-46aa-b9d6-63397612f4ec</td><td>0</td><td>0</td><td>1</td><td>1</td></tr>\n",
       "\t<tr><td>00162034-eacc-45d1-9b1f-6f1364ac60ac</td><td>0</td><td>0</td><td>1</td><td>1</td></tr>\n",
       "</tbody>\n",
       "</table>\n"
      ],
      "text/latex": [
       "A tibble: 6 × 5\n",
       "\\begin{tabular}{r|lllll}\n",
       " app\\_install\\_id & article & other & title description & total\\\\\n",
       " <chr> & <dbl> & <dbl> & <dbl> & <dbl>\\\\\n",
       "\\hline\n",
       "\t 0001a2c6-b1a4-46fb-94cf-e9a4a8ace233 & 1 & 0 & 0 & 1\\\\\n",
       "\t 0002ebbf-b2ee-4547-9e2f-4cbe5e7d54f5 & 0 & 0 & 1 & 1\\\\\n",
       "\t 000650a3-7d86-4dcf-91c5-33190d53066c & 1 & 1 & 0 & 1\\\\\n",
       "\t 0006ed7f-9a63-4c62-bf6b-30d599d626e9 & 1 & 0 & 0 & 1\\\\\n",
       "\t 0009681a-1fd9-46aa-b9d6-63397612f4ec & 0 & 0 & 1 & 1\\\\\n",
       "\t 00162034-eacc-45d1-9b1f-6f1364ac60ac & 0 & 0 & 1 & 1\\\\\n",
       "\\end{tabular}\n"
      ],
      "text/markdown": [
       "\n",
       "A tibble: 6 × 5\n",
       "\n",
       "| app_install_id &lt;chr&gt; | article &lt;dbl&gt; | other &lt;dbl&gt; | title description &lt;dbl&gt; | total &lt;dbl&gt; |\n",
       "|---|---|---|---|---|\n",
       "| 0001a2c6-b1a4-46fb-94cf-e9a4a8ace233 | 1 | 0 | 0 | 1 |\n",
       "| 0002ebbf-b2ee-4547-9e2f-4cbe5e7d54f5 | 0 | 0 | 1 | 1 |\n",
       "| 000650a3-7d86-4dcf-91c5-33190d53066c | 1 | 1 | 0 | 1 |\n",
       "| 0006ed7f-9a63-4c62-bf6b-30d599d626e9 | 1 | 0 | 0 | 1 |\n",
       "| 0009681a-1fd9-46aa-b9d6-63397612f4ec | 0 | 0 | 1 | 1 |\n",
       "| 00162034-eacc-45d1-9b1f-6f1364ac60ac | 0 | 0 | 1 | 1 |\n",
       "\n"
      ],
      "text/plain": [
       "  app_install_id                       article other title description total\n",
       "1 0001a2c6-b1a4-46fb-94cf-e9a4a8ace233 1       0     0                 1    \n",
       "2 0002ebbf-b2ee-4547-9e2f-4cbe5e7d54f5 0       0     1                 1    \n",
       "3 000650a3-7d86-4dcf-91c5-33190d53066c 1       1     0                 1    \n",
       "4 0006ed7f-9a63-4c62-bf6b-30d599d626e9 1       0     0                 1    \n",
       "5 0009681a-1fd9-46aa-b9d6-63397612f4ec 0       0     1                 1    \n",
       "6 00162034-eacc-45d1-9b1f-6f1364ac60ac 0       0     1                 1    "
      ]
     },
     "metadata": {},
     "output_type": "display_data"
    }
   ],
   "source": [
    "head(clientside_contributions)"
   ]
  },
  {
   "cell_type": "code",
   "execution_count": 20,
   "metadata": {},
   "outputs": [
    {
     "data": {
      "text/html": [
       "'5m 36s'"
      ],
      "text/latex": [
       "'5m 36s'"
      ],
      "text/markdown": [
       "'5m 36s'"
      ],
      "text/plain": [
       "[1] \"5m 36s\""
      ]
     },
     "metadata": {},
     "output_type": "display_data"
    }
   ],
   "source": [
    "contributors_session_length <- clientside_contributions %>%\n",
    "    dplyr::left_join(session_summaries, by = \"app_install_id\") %>%\n",
    "    keep_where(!is.na(n_total_sessions)) %>%\n",
    "    mutate(avg_session_time = total_session_length / n_total_sessions) %>%\n",
    "    summarize(avg_session_time = mean(avg_session_time)) %>%\n",
    "    pull(avg_session_time) %>%\n",
    "    round %>%\n",
    "    lubridate::seconds_to_period() %>%\n",
    "    tolower\n",
    "contributors_session_length"
   ]
  },
  {
   "cell_type": "code",
   "execution_count": 21,
   "metadata": {},
   "outputs": [
    {
     "data": {
      "text/html": [
       "609"
      ],
      "text/latex": [
       "609"
      ],
      "text/markdown": [
       "609"
      ],
      "text/plain": [
       "[1] 609"
      ]
     },
     "metadata": {},
     "output_type": "display_data"
    }
   ],
   "source": [
    "contributors_daily <- edit_session_summaries %>%\n",
    "    keep_where(edit_session_completed) %>%\n",
    "    group_by(date) %>%\n",
    "    summarize(n_users = length(unique(app_install_id))) %>%\n",
    "    summarize(avg_users = mean(n_users)) %>%\n",
    "    pull(avg_users) %>%\n",
    "    ceiling\n",
    "contributors_daily"
   ]
  },
  {
   "cell_type": "code",
   "execution_count": 22,
   "metadata": {},
   "outputs": [
    {
     "data": {
      "text/html": [
       "10604"
      ],
      "text/latex": [
       "10604"
      ],
      "text/markdown": [
       "10604"
      ],
      "text/plain": [
       "[1] 10604"
      ]
     },
     "metadata": {},
     "output_type": "display_data"
    }
   ],
   "source": [
    "contributors_monthly <- edit_session_summaries %>%\n",
    "    keep_where(edit_session_completed) %>%\n",
    "    summarize(n_users = length(unique(app_install_id))) %>%\n",
    "    pull(n_users)\n",
    "contributors_monthly"
   ]
  },
  {
   "cell_type": "markdown",
   "metadata": {},
   "source": [
    "## Suggested Edits"
   ]
  },
  {
   "cell_type": "markdown",
   "metadata": {},
   "source": [
    "### Sessions\n",
    "\n",
    "Average session time of users in ”Suggested edits”"
   ]
  },
  {
   "cell_type": "code",
   "execution_count": 23,
   "metadata": {},
   "outputs": [],
   "source": [
    "suggested_edit_sessions <- readr::read_csv(file.path(data_dir, \"suggested_edit_sessions.csv\"), col_types = \"ccii\")"
   ]
  },
  {
   "cell_type": "code",
   "execution_count": 24,
   "metadata": {},
   "outputs": [
    {
     "data": {
      "text/html": [
       "<table>\n",
       "<caption>A tibble: 6 × 4</caption>\n",
       "<thead>\n",
       "\t<tr><th scope=col>install_id</th><th scope=col>session_id</th><th scope=col>total_time_spent</th><th scope=col>n_edits</th></tr>\n",
       "\t<tr><th scope=col>&lt;chr&gt;</th><th scope=col>&lt;chr&gt;</th><th scope=col>&lt;int&gt;</th><th scope=col>&lt;int&gt;</th></tr>\n",
       "</thead>\n",
       "<tbody>\n",
       "\t<tr><td>0138b724-36d8-4c7c-8121-1e098967d167</td><td>ec4a626e-6f09-44f5-8bfb-4f1f3ac72d16</td><td>170</td><td>0</td></tr>\n",
       "\t<tr><td>01428897-c294-4bcc-9765-7f3d4a0e47d3</td><td>4373d7ab-6a31-489b-a532-a0e90b978818</td><td> 10</td><td>0</td></tr>\n",
       "\t<tr><td>0143b6d1-4790-4d94-9833-23f1d4c6d0aa</td><td>5631d57a-fbf1-40af-b14a-7e16f4160ccf</td><td> 11</td><td>0</td></tr>\n",
       "\t<tr><td>0190e794-ad14-496c-8b47-067328520a05</td><td>3645a4b6-f933-4eaf-8d8a-ca91644250f0</td><td> 19</td><td>0</td></tr>\n",
       "\t<tr><td>0190e794-ad14-496c-8b47-067328520a05</td><td>703be1cd-b27c-4b3e-826a-69a39f4fe01e</td><td> 76</td><td>0</td></tr>\n",
       "\t<tr><td>0223704d-8916-4125-b059-50ccc893576b</td><td>1aeecbfc-52e6-48d0-af62-0506cc94b733</td><td>314</td><td>0</td></tr>\n",
       "</tbody>\n",
       "</table>\n"
      ],
      "text/latex": [
       "A tibble: 6 × 4\n",
       "\\begin{tabular}{r|llll}\n",
       " install\\_id & session\\_id & total\\_time\\_spent & n\\_edits\\\\\n",
       " <chr> & <chr> & <int> & <int>\\\\\n",
       "\\hline\n",
       "\t 0138b724-36d8-4c7c-8121-1e098967d167 & ec4a626e-6f09-44f5-8bfb-4f1f3ac72d16 & 170 & 0\\\\\n",
       "\t 01428897-c294-4bcc-9765-7f3d4a0e47d3 & 4373d7ab-6a31-489b-a532-a0e90b978818 &  10 & 0\\\\\n",
       "\t 0143b6d1-4790-4d94-9833-23f1d4c6d0aa & 5631d57a-fbf1-40af-b14a-7e16f4160ccf &  11 & 0\\\\\n",
       "\t 0190e794-ad14-496c-8b47-067328520a05 & 3645a4b6-f933-4eaf-8d8a-ca91644250f0 &  19 & 0\\\\\n",
       "\t 0190e794-ad14-496c-8b47-067328520a05 & 703be1cd-b27c-4b3e-826a-69a39f4fe01e &  76 & 0\\\\\n",
       "\t 0223704d-8916-4125-b059-50ccc893576b & 1aeecbfc-52e6-48d0-af62-0506cc94b733 & 314 & 0\\\\\n",
       "\\end{tabular}\n"
      ],
      "text/markdown": [
       "\n",
       "A tibble: 6 × 4\n",
       "\n",
       "| install_id &lt;chr&gt; | session_id &lt;chr&gt; | total_time_spent &lt;int&gt; | n_edits &lt;int&gt; |\n",
       "|---|---|---|---|\n",
       "| 0138b724-36d8-4c7c-8121-1e098967d167 | ec4a626e-6f09-44f5-8bfb-4f1f3ac72d16 | 170 | 0 |\n",
       "| 01428897-c294-4bcc-9765-7f3d4a0e47d3 | 4373d7ab-6a31-489b-a532-a0e90b978818 |  10 | 0 |\n",
       "| 0143b6d1-4790-4d94-9833-23f1d4c6d0aa | 5631d57a-fbf1-40af-b14a-7e16f4160ccf |  11 | 0 |\n",
       "| 0190e794-ad14-496c-8b47-067328520a05 | 3645a4b6-f933-4eaf-8d8a-ca91644250f0 |  19 | 0 |\n",
       "| 0190e794-ad14-496c-8b47-067328520a05 | 703be1cd-b27c-4b3e-826a-69a39f4fe01e |  76 | 0 |\n",
       "| 0223704d-8916-4125-b059-50ccc893576b | 1aeecbfc-52e6-48d0-af62-0506cc94b733 | 314 | 0 |\n",
       "\n"
      ],
      "text/plain": [
       "  install_id                           session_id                          \n",
       "1 0138b724-36d8-4c7c-8121-1e098967d167 ec4a626e-6f09-44f5-8bfb-4f1f3ac72d16\n",
       "2 01428897-c294-4bcc-9765-7f3d4a0e47d3 4373d7ab-6a31-489b-a532-a0e90b978818\n",
       "3 0143b6d1-4790-4d94-9833-23f1d4c6d0aa 5631d57a-fbf1-40af-b14a-7e16f4160ccf\n",
       "4 0190e794-ad14-496c-8b47-067328520a05 3645a4b6-f933-4eaf-8d8a-ca91644250f0\n",
       "5 0190e794-ad14-496c-8b47-067328520a05 703be1cd-b27c-4b3e-826a-69a39f4fe01e\n",
       "6 0223704d-8916-4125-b059-50ccc893576b 1aeecbfc-52e6-48d0-af62-0506cc94b733\n",
       "  total_time_spent n_edits\n",
       "1 170              0      \n",
       "2  10              0      \n",
       "3  11              0      \n",
       "4  19              0      \n",
       "5  76              0      \n",
       "6 314              0      "
      ]
     },
     "metadata": {},
     "output_type": "display_data"
    }
   ],
   "source": [
    "head(suggested_edit_sessions)"
   ]
  },
  {
   "cell_type": "code",
   "execution_count": 25,
   "metadata": {},
   "outputs": [
    {
     "data": {
      "text/html": [
       "'37s'"
      ],
      "text/latex": [
       "'37s'"
      ],
      "text/markdown": [
       "'37s'"
      ],
      "text/plain": [
       "[1] \"37s\""
      ]
     },
     "metadata": {},
     "output_type": "display_data"
    }
   ],
   "source": [
    "se_time_spent <- suggested_edit_sessions %>%\n",
    "    group_by(install_id) %>%\n",
    "    summarize(avg_session_time = sum(total_time_spent) / dplyr::n()) %>%\n",
    "    summarize(avg_session_time = median(avg_session_time)) %>%\n",
    "    pull(avg_session_time) %>%\n",
    "    round %>%\n",
    "    lubridate::seconds_to_period() %>%\n",
    "    tolower\n",
    "se_time_spent"
   ]
  },
  {
   "cell_type": "code",
   "execution_count": 26,
   "metadata": {},
   "outputs": [],
   "source": [
    "suggested_edit_sessions2 <- readr::read_csv(\n",
    "    file.path(data_dir, \"suggested_edit_sessions2.csv.gz\"),\n",
    "    col_types = \"cciD\"\n",
    ")"
   ]
  },
  {
   "cell_type": "code",
   "execution_count": 27,
   "metadata": {},
   "outputs": [
    {
     "data": {
      "text/html": [
       "<table>\n",
       "<caption>A tibble: 6 × 4</caption>\n",
       "<thead>\n",
       "\t<tr><th scope=col>install_id</th><th scope=col>session_id</th><th scope=col>session_length</th><th scope=col>date</th></tr>\n",
       "\t<tr><th scope=col>&lt;chr&gt;</th><th scope=col>&lt;chr&gt;</th><th scope=col>&lt;int&gt;</th><th scope=col>&lt;date&gt;</th></tr>\n",
       "</thead>\n",
       "<tbody>\n",
       "\t<tr><td>78d25419-49f2-4e5a-865c-c75f38437c9c</td><td>1b81c84f-d6c3-4c4b-b940-7d066ecef233</td><td>   0</td><td>2019-06-01</td></tr>\n",
       "\t<tr><td>4fbc110e-7805-4ed9-9591-eec53b905915</td><td>7e19a8ab-986d-4097-8f04-aac83aac2005</td><td> 213</td><td>2019-06-01</td></tr>\n",
       "\t<tr><td>c6866c2a-9107-477d-82f0-6bdafda46ecd</td><td>8a56fe22-6d54-4bc9-9ede-14e7e8277683</td><td> 464</td><td>2019-06-01</td></tr>\n",
       "\t<tr><td>c4d36e90-4db5-438d-9438-6c9912dbe3fb</td><td>f33efba7-e502-476d-acf6-effe8103ff44</td><td>   0</td><td>2019-06-01</td></tr>\n",
       "\t<tr><td>0190e794-ad14-496c-8b47-067328520a05</td><td>703be1cd-b27c-4b3e-826a-69a39f4fe01e</td><td>   0</td><td>2019-06-01</td></tr>\n",
       "\t<tr><td>0190e794-ad14-496c-8b47-067328520a05</td><td>703be1cd-b27c-4b3e-826a-69a39f4fe01e</td><td>3184</td><td>2019-06-01</td></tr>\n",
       "</tbody>\n",
       "</table>\n"
      ],
      "text/latex": [
       "A tibble: 6 × 4\n",
       "\\begin{tabular}{r|llll}\n",
       " install\\_id & session\\_id & session\\_length & date\\\\\n",
       " <chr> & <chr> & <int> & <date>\\\\\n",
       "\\hline\n",
       "\t 78d25419-49f2-4e5a-865c-c75f38437c9c & 1b81c84f-d6c3-4c4b-b940-7d066ecef233 &    0 & 2019-06-01\\\\\n",
       "\t 4fbc110e-7805-4ed9-9591-eec53b905915 & 7e19a8ab-986d-4097-8f04-aac83aac2005 &  213 & 2019-06-01\\\\\n",
       "\t c6866c2a-9107-477d-82f0-6bdafda46ecd & 8a56fe22-6d54-4bc9-9ede-14e7e8277683 &  464 & 2019-06-01\\\\\n",
       "\t c4d36e90-4db5-438d-9438-6c9912dbe3fb & f33efba7-e502-476d-acf6-effe8103ff44 &    0 & 2019-06-01\\\\\n",
       "\t 0190e794-ad14-496c-8b47-067328520a05 & 703be1cd-b27c-4b3e-826a-69a39f4fe01e &    0 & 2019-06-01\\\\\n",
       "\t 0190e794-ad14-496c-8b47-067328520a05 & 703be1cd-b27c-4b3e-826a-69a39f4fe01e & 3184 & 2019-06-01\\\\\n",
       "\\end{tabular}\n"
      ],
      "text/markdown": [
       "\n",
       "A tibble: 6 × 4\n",
       "\n",
       "| install_id &lt;chr&gt; | session_id &lt;chr&gt; | session_length &lt;int&gt; | date &lt;date&gt; |\n",
       "|---|---|---|---|\n",
       "| 78d25419-49f2-4e5a-865c-c75f38437c9c | 1b81c84f-d6c3-4c4b-b940-7d066ecef233 |    0 | 2019-06-01 |\n",
       "| 4fbc110e-7805-4ed9-9591-eec53b905915 | 7e19a8ab-986d-4097-8f04-aac83aac2005 |  213 | 2019-06-01 |\n",
       "| c6866c2a-9107-477d-82f0-6bdafda46ecd | 8a56fe22-6d54-4bc9-9ede-14e7e8277683 |  464 | 2019-06-01 |\n",
       "| c4d36e90-4db5-438d-9438-6c9912dbe3fb | f33efba7-e502-476d-acf6-effe8103ff44 |    0 | 2019-06-01 |\n",
       "| 0190e794-ad14-496c-8b47-067328520a05 | 703be1cd-b27c-4b3e-826a-69a39f4fe01e |    0 | 2019-06-01 |\n",
       "| 0190e794-ad14-496c-8b47-067328520a05 | 703be1cd-b27c-4b3e-826a-69a39f4fe01e | 3184 | 2019-06-01 |\n",
       "\n"
      ],
      "text/plain": [
       "  install_id                           session_id                          \n",
       "1 78d25419-49f2-4e5a-865c-c75f38437c9c 1b81c84f-d6c3-4c4b-b940-7d066ecef233\n",
       "2 4fbc110e-7805-4ed9-9591-eec53b905915 7e19a8ab-986d-4097-8f04-aac83aac2005\n",
       "3 c6866c2a-9107-477d-82f0-6bdafda46ecd 8a56fe22-6d54-4bc9-9ede-14e7e8277683\n",
       "4 c4d36e90-4db5-438d-9438-6c9912dbe3fb f33efba7-e502-476d-acf6-effe8103ff44\n",
       "5 0190e794-ad14-496c-8b47-067328520a05 703be1cd-b27c-4b3e-826a-69a39f4fe01e\n",
       "6 0190e794-ad14-496c-8b47-067328520a05 703be1cd-b27c-4b3e-826a-69a39f4fe01e\n",
       "  session_length date      \n",
       "1    0           2019-06-01\n",
       "2  213           2019-06-01\n",
       "3  464           2019-06-01\n",
       "4    0           2019-06-01\n",
       "5    0           2019-06-01\n",
       "6 3184           2019-06-01"
      ]
     },
     "metadata": {},
     "output_type": "display_data"
    }
   ],
   "source": [
    "head(suggested_edit_sessions2)"
   ]
  },
  {
   "cell_type": "code",
   "execution_count": 28,
   "metadata": {},
   "outputs": [
    {
     "data": {
      "text/html": [
       "'12m 50s'"
      ],
      "text/latex": [
       "'12m 50s'"
      ],
      "text/markdown": [
       "'12m 50s'"
      ],
      "text/plain": [
       "[1] \"12m 50s\""
      ]
     },
     "metadata": {},
     "output_type": "display_data"
    }
   ],
   "source": [
    "se_session_length <- suggested_edit_sessions2 %>%\n",
    "    group_by(install_id) %>%\n",
    "    summarize(avg_session_length = mean(session_length)) %>%\n",
    "    summarize(avg_session_length = mean(avg_session_length)) %>%\n",
    "    pull(avg_session_length) %>%\n",
    "    round %>%\n",
    "    lubridate::seconds_to_period() %>%\n",
    "    tolower\n",
    "se_session_length"
   ]
  },
  {
   "cell_type": "markdown",
   "metadata": {},
   "source": [
    "### Contributions\n",
    "\n",
    "- Total number of unique users that have made an edit in “Suggested edits”\n",
    "- Total number of article description edits in the app (add, translate, edit)\n",
    "- Total number of article description edits in the app via Suggested edits (add, translate) \n",
    "- <strike>Total number of article description edits on Wikipedia in general (add, translate, edit)</strike>"
   ]
  },
  {
   "cell_type": "code",
   "execution_count": 29,
   "metadata": {},
   "outputs": [],
   "source": [
    "editor_data <- readr::read_csv(file.path(data_dir, \"editor_data.csv\"), col_types = \"ccDii\")"
   ]
  },
  {
   "cell_type": "code",
   "execution_count": 30,
   "metadata": {},
   "outputs": [
    {
     "data": {
      "text/html": [
       "<table>\n",
       "<caption>A tibble: 6 × 5</caption>\n",
       "<thead>\n",
       "\t<tr><th scope=col>edit_type</th><th scope=col>user_name</th><th scope=col>date</th><th scope=col>suggested_edits</th><th scope=col>total_edits</th></tr>\n",
       "\t<tr><th scope=col>&lt;chr&gt;</th><th scope=col>&lt;chr&gt;</th><th scope=col>&lt;date&gt;</th><th scope=col>&lt;int&gt;</th><th scope=col>&lt;int&gt;</th></tr>\n",
       "</thead>\n",
       "<tbody>\n",
       "\t<tr><td>title description</td><td>*christianhascrashed</td><td>2019-05-04</td><td>0</td><td>2</td></tr>\n",
       "\t<tr><td>title description</td><td>.hossein.           </td><td>2019-05-08</td><td>0</td><td>3</td></tr>\n",
       "\t<tr><td>title description</td><td>.hossein.           </td><td>2019-05-10</td><td>7</td><td>9</td></tr>\n",
       "\t<tr><td>title description</td><td>02USHD              </td><td>2019-06-13</td><td>0</td><td>2</td></tr>\n",
       "\t<tr><td>title description</td><td>0wyntermute0        </td><td>2019-05-30</td><td>0</td><td>1</td></tr>\n",
       "\t<tr><td>title description</td><td>1.124.108.60        </td><td>2019-06-09</td><td>0</td><td>1</td></tr>\n",
       "</tbody>\n",
       "</table>\n"
      ],
      "text/latex": [
       "A tibble: 6 × 5\n",
       "\\begin{tabular}{r|lllll}\n",
       " edit\\_type & user\\_name & date & suggested\\_edits & total\\_edits\\\\\n",
       " <chr> & <chr> & <date> & <int> & <int>\\\\\n",
       "\\hline\n",
       "\t title description & *christianhascrashed & 2019-05-04 & 0 & 2\\\\\n",
       "\t title description & .hossein.            & 2019-05-08 & 0 & 3\\\\\n",
       "\t title description & .hossein.            & 2019-05-10 & 7 & 9\\\\\n",
       "\t title description & 02USHD               & 2019-06-13 & 0 & 2\\\\\n",
       "\t title description & 0wyntermute0         & 2019-05-30 & 0 & 1\\\\\n",
       "\t title description & 1.124.108.60         & 2019-06-09 & 0 & 1\\\\\n",
       "\\end{tabular}\n"
      ],
      "text/markdown": [
       "\n",
       "A tibble: 6 × 5\n",
       "\n",
       "| edit_type &lt;chr&gt; | user_name &lt;chr&gt; | date &lt;date&gt; | suggested_edits &lt;int&gt; | total_edits &lt;int&gt; |\n",
       "|---|---|---|---|---|\n",
       "| title description | *christianhascrashed | 2019-05-04 | 0 | 2 |\n",
       "| title description | .hossein.            | 2019-05-08 | 0 | 3 |\n",
       "| title description | .hossein.            | 2019-05-10 | 7 | 9 |\n",
       "| title description | 02USHD               | 2019-06-13 | 0 | 2 |\n",
       "| title description | 0wyntermute0         | 2019-05-30 | 0 | 1 |\n",
       "| title description | 1.124.108.60         | 2019-06-09 | 0 | 1 |\n",
       "\n"
      ],
      "text/plain": [
       "  edit_type         user_name            date       suggested_edits total_edits\n",
       "1 title description *christianhascrashed 2019-05-04 0               2          \n",
       "2 title description .hossein.            2019-05-08 0               3          \n",
       "3 title description .hossein.            2019-05-10 7               9          \n",
       "4 title description 02USHD               2019-06-13 0               2          \n",
       "5 title description 0wyntermute0         2019-05-30 0               1          \n",
       "6 title description 1.124.108.60         2019-06-09 0               1          "
      ]
     },
     "metadata": {},
     "output_type": "display_data"
    }
   ],
   "source": [
    "head(editor_data)"
   ]
  },
  {
   "cell_type": "code",
   "execution_count": 31,
   "metadata": {
    "scrolled": true
   },
   "outputs": [
    {
     "data": {
      "text/html": [
       "15"
      ],
      "text/latex": [
       "15"
      ],
      "text/markdown": [
       "15"
      ],
      "text/plain": [
       "[1] 15"
      ]
     },
     "metadata": {},
     "output_type": "display_data"
    }
   ],
   "source": [
    "suggested_editors_daily <- editor_data %>%\n",
    "    keep_where(suggested_edits > 0, lubridate::year(date) == year, lubridate::month(date) == month) %>%\n",
    "    group_by(date) %>%\n",
    "    summarize(n_users = length(unique(user_name))) %>%\n",
    "    summarize(avg_users = mean(n_users)) %>%\n",
    "    pull(avg_users) %>%\n",
    "    ceiling\n",
    "head(suggested_editors_daily)"
   ]
  },
  {
   "cell_type": "code",
   "execution_count": 32,
   "metadata": {},
   "outputs": [
    {
     "data": {
      "text/html": [
       "203"
      ],
      "text/latex": [
       "203"
      ],
      "text/markdown": [
       "203"
      ],
      "text/plain": [
       "[1] 203"
      ]
     },
     "metadata": {},
     "output_type": "display_data"
    }
   ],
   "source": [
    "suggested_editors_monthly <- editor_data %>%\n",
    "    keep_where(suggested_edits > 0, lubridate::year(date) == year, lubridate::month(date) == month) %>%\n",
    "    summarize(n_users = length(unique(user_name))) %>%\n",
    "    pull(n_users)\n",
    "suggested_editors_monthly"
   ]
  },
  {
   "cell_type": "code",
   "execution_count": 33,
   "metadata": {},
   "outputs": [
    {
     "data": {
      "text/html": [
       "146"
      ],
      "text/latex": [
       "146"
      ],
      "text/markdown": [
       "146"
      ],
      "text/plain": [
       "[1] 146"
      ]
     },
     "metadata": {},
     "output_type": "display_data"
    }
   ],
   "source": [
    "suggested_edits_daily <- editor_data %>%\n",
    "    keep_where(edit_type == \"title description\") %>%\n",
    "    group_by(date) %>%\n",
    "    summarize(suggested_edits = sum(suggested_edits)) %>%\n",
    "    summarize(avg_suggested_edits = mean(suggested_edits)) %>%\n",
    "    pull(avg_suggested_edits) %>%\n",
    "    ceiling\n",
    "suggested_edits_daily"
   ]
  },
  {
   "cell_type": "code",
   "execution_count": 34,
   "metadata": {},
   "outputs": [
    {
     "data": {
      "text/html": [
       "13282"
      ],
      "text/latex": [
       "13282"
      ],
      "text/markdown": [
       "13282"
      ],
      "text/plain": [
       "[1] 13282"
      ]
     },
     "metadata": {},
     "output_type": "display_data"
    }
   ],
   "source": [
    "suggested_edits_monthly <- editor_data %>%\n",
    "    keep_where(edit_type == \"title description\") %>%\n",
    "    summarize(suggested_edits = sum(suggested_edits)) %>%\n",
    "    pull(suggested_edits)\n",
    "suggested_edits_monthly"
   ]
  },
  {
   "cell_type": "code",
   "execution_count": 35,
   "metadata": {},
   "outputs": [
    {
     "data": {
      "text/html": [
       "751"
      ],
      "text/latex": [
       "751"
      ],
      "text/markdown": [
       "751"
      ],
      "text/plain": [
       "[1] 751"
      ]
     },
     "metadata": {},
     "output_type": "display_data"
    }
   ],
   "source": [
    "inapp_edits_daily <- editor_data %>%\n",
    "    keep_where(edit_type == \"title description\") %>%\n",
    "    group_by(date) %>%\n",
    "    summarize(total_edits = sum(total_edits)) %>%\n",
    "    summarize(avg_total_edits = mean(total_edits)) %>%\n",
    "    pull(avg_total_edits) %>%\n",
    "    ceiling\n",
    "inapp_edits_daily"
   ]
  },
  {
   "cell_type": "code",
   "execution_count": 36,
   "metadata": {},
   "outputs": [
    {
     "data": {
      "text/html": [
       "68298"
      ],
      "text/latex": [
       "68298"
      ],
      "text/markdown": [
       "68298"
      ],
      "text/plain": [
       "[1] 68298"
      ]
     },
     "metadata": {},
     "output_type": "display_data"
    }
   ],
   "source": [
    "inapp_edits_monthly <- editor_data %>%\n",
    "    keep_where(edit_type == \"title description\") %>%\n",
    "    summarize(total_edits = sum(total_edits)) %>%\n",
    "    pull(total_edits)\n",
    "inapp_edits_monthly"
   ]
  },
  {
   "cell_type": "markdown",
   "metadata": {},
   "source": [
    "### Unlocking\n",
    "\n",
    "Total number of unique users that have unlocked at least one “Suggested edits” feature"
   ]
  },
  {
   "cell_type": "code",
   "execution_count": 37,
   "metadata": {},
   "outputs": [],
   "source": [
    "suggested_edit_unlock <- readr::read_csv(file.path(data_dir, \"suggested_edit_unlock.csv\"), col_types = \"iTlD\")"
   ]
  },
  {
   "cell_type": "code",
   "execution_count": 38,
   "metadata": {},
   "outputs": [],
   "source": [
    "unlock_stat <- suggested_edit_unlock %>%\n",
    "    count(unlocked) %>%\n",
    "    spread(unlocked, n) %>%\n",
    "    summarize(`TRUE` = mean(`TRUE`), `FALSE` = mean(`FALSE`)) %>%\n",
    "    mutate(prop = `TRUE` / (`TRUE` + `FALSE`)) %>%\n",
    "    mutate(summarized = sprintf(\"%.1f%% (%s out of %s)\", 100 * prop, compress(`TRUE`), compress(`TRUE` + `FALSE`))) %>%\n",
    "    pull(summarized)"
   ]
  },
  {
   "cell_type": "markdown",
   "metadata": {},
   "source": [
    "## Explore Feed\n",
    "\n",
    "- Total number of unique users in Explore feed\n",
    "- Average session time of users in Explore feed"
   ]
  },
  {
   "cell_type": "code",
   "execution_count": 39,
   "metadata": {},
   "outputs": [
    {
     "data": {
      "text/html": [
       "<table>\n",
       "<caption>A tibble: 6 × 3</caption>\n",
       "<thead>\n",
       "\t<tr><th scope=col>n_users</th><th scope=col>avg_time_spent</th><th scope=col>date</th></tr>\n",
       "\t<tr><th scope=col>&lt;int&gt;</th><th scope=col>&lt;dbl&gt;</th><th scope=col>&lt;date&gt;</th></tr>\n",
       "</thead>\n",
       "<tbody>\n",
       "\t<tr><td>3826</td><td>56</td><td>2019-06-01</td></tr>\n",
       "\t<tr><td>3938</td><td>43</td><td>2019-06-02</td></tr>\n",
       "\t<tr><td>3650</td><td>30</td><td>2019-06-03</td></tr>\n",
       "\t<tr><td>3638</td><td>36</td><td>2019-06-04</td></tr>\n",
       "\t<tr><td>3582</td><td>82</td><td>2019-06-05</td></tr>\n",
       "\t<tr><td>3630</td><td>57</td><td>2019-06-06</td></tr>\n",
       "</tbody>\n",
       "</table>\n"
      ],
      "text/latex": [
       "A tibble: 6 × 3\n",
       "\\begin{tabular}{r|lll}\n",
       " n\\_users & avg\\_time\\_spent & date\\\\\n",
       " <int> & <dbl> & <date>\\\\\n",
       "\\hline\n",
       "\t 3826 & 56 & 2019-06-01\\\\\n",
       "\t 3938 & 43 & 2019-06-02\\\\\n",
       "\t 3650 & 30 & 2019-06-03\\\\\n",
       "\t 3638 & 36 & 2019-06-04\\\\\n",
       "\t 3582 & 82 & 2019-06-05\\\\\n",
       "\t 3630 & 57 & 2019-06-06\\\\\n",
       "\\end{tabular}\n"
      ],
      "text/markdown": [
       "\n",
       "A tibble: 6 × 3\n",
       "\n",
       "| n_users &lt;int&gt; | avg_time_spent &lt;dbl&gt; | date &lt;date&gt; |\n",
       "|---|---|---|\n",
       "| 3826 | 56 | 2019-06-01 |\n",
       "| 3938 | 43 | 2019-06-02 |\n",
       "| 3650 | 30 | 2019-06-03 |\n",
       "| 3638 | 36 | 2019-06-04 |\n",
       "| 3582 | 82 | 2019-06-05 |\n",
       "| 3630 | 57 | 2019-06-06 |\n",
       "\n"
      ],
      "text/plain": [
       "  n_users avg_time_spent date      \n",
       "1 3826    56             2019-06-01\n",
       "2 3938    43             2019-06-02\n",
       "3 3650    30             2019-06-03\n",
       "4 3638    36             2019-06-04\n",
       "5 3582    82             2019-06-05\n",
       "6 3630    57             2019-06-06"
      ]
     },
     "metadata": {},
     "output_type": "display_data"
    }
   ],
   "source": [
    "explore_feed_monthly <- readr::read_csv(file.path(data_dir, \"explore_feed_monthly.csv\"), col_types = \"i\")\n",
    "explore_feed_daily <- readr::read_csv(file.path(data_dir, \"explore_feed_daily.csv\"), col_types = \"idD\")\n",
    "head(explore_feed_daily)"
   ]
  },
  {
   "cell_type": "markdown",
   "metadata": {},
   "source": [
    "## Metrics table"
   ]
  },
  {
   "cell_type": "code",
   "execution_count": 40,
   "metadata": {},
   "outputs": [],
   "source": [
    "metric_labels <- c(\n",
    "    \"Total number of unique users\",\n",
    "    \"Average session time per user\",\n",
    "    \"Total number of unique users that have set multiple languages in the app\",\n",
    "    \"Total number of unique users that have been logged in to Wikipedia in the app\",\n",
    "    \"Total number of unique users who were at least on one article page\",\n",
    "    \"Average session time of users on an article page\",\n",
    "    \"Total number of unique users that have made an edit\",\n",
    "    \"Average session time of users that made an edit\",\n",
    "    \"Total number of unique users that have made an edit in “Suggested edits”\",\n",
    "    \"Average session time of ”Suggested edits” users\",\n",
    "    \"Median time spent in “Suggested Edits”\",\n",
    "    \"Total number of unique users that have unlocked at least one “Suggested edits” feature\",\n",
    "    \"Total number of article description edits in the app (add, translate, edit)\",\n",
    "    \"Total number of article description edits in the app via Suggested edits (add, translate)\",\n",
    "    \"Total number of unique users in Explore feed\",\n",
    "    \"Average time spent in Explore feed\"\n",
    ")"
   ]
  },
  {
   "cell_type": "code",
   "execution_count": 41,
   "metadata": {},
   "outputs": [
    {
     "data": {
      "text/html": [
       "16"
      ],
      "text/latex": [
       "16"
      ],
      "text/markdown": [
       "16"
      ],
      "text/plain": [
       "[1] 16"
      ]
     },
     "metadata": {},
     "output_type": "display_data"
    }
   ],
   "source": [
    "length(metric_labels)"
   ]
  },
  {
   "cell_type": "code",
   "execution_count": 42,
   "metadata": {},
   "outputs": [],
   "source": [
    "metrics <- data.frame(\n",
    "    daily_average = c(\n",
    "        prettyNum(ceiling(mean(dau$n_users)), big.mark = \" \"),\n",
    "        NA,\n",
    "        NA,\n",
    "        NA,\n",
    "        readers_daily,\n",
    "        NA,\n",
    "        contributors_daily,\n",
    "        NA,\n",
    "        suggested_editors_daily,\n",
    "        NA,\n",
    "        NA,\n",
    "        NA,\n",
    "        prettyNum(inapp_edits_daily, big.mark = \" \"),\n",
    "        prettyNum(suggested_edits_daily, big.mark = \" \"),\n",
    "        prettyNum(ceiling(mean(explore_feed_daily$n_users)), big.mark = \" \"),\n",
    "        NA\n",
    "    ),\n",
    "    monthly_total = c(\n",
    "        prettyNum(mau[1], big.mark = \" \"),\n",
    "        NA,\n",
    "        NA,\n",
    "        NA,\n",
    "        readers_monthly,\n",
    "        NA,\n",
    "        prettyNum(contributors_monthly, big.mark = \" \"),\n",
    "        NA,\n",
    "        prettyNum(suggested_editors_monthly, big.mark = \" \"),\n",
    "        NA,\n",
    "        NA,\n",
    "        NA,\n",
    "        prettyNum(inapp_edits_monthly, big.mark = \" \"),\n",
    "        prettyNum(suggested_edits_monthly, big.mark = \" \"),\n",
    "        prettyNum(explore_feed_monthly$n_users[1], big.mark = \" \"),\n",
    "        NA\n",
    "    ),\n",
    "    value = c(\n",
    "        NA,\n",
    "        avg_session_time,\n",
    "        multilang_stat,\n",
    "        loggedin_stat,\n",
    "        NA,\n",
    "        tolower(lubridate::seconds_to_period(round(mean(reading_time$avg_reading_time)))),\n",
    "        NA,\n",
    "        contributors_session_length,\n",
    "        NA,\n",
    "        se_session_length,\n",
    "        se_time_spent,\n",
    "        unlock_stat,\n",
    "        NA,\n",
    "        NA,\n",
    "        NA,\n",
    "        tolower(lubridate::seconds_to_period(round(mean(explore_feed_daily$avg_time_spent))))\n",
    "    ),\n",
    "    source = c(\n",
    "        \"in-app analytics\",\n",
    "        \"in-app analytics\",\n",
    "        \"in-app analytics\",\n",
    "        \"in-app analytics\",\n",
    "        \"in-app analytics\",\n",
    "        \"in-app analytics\",\n",
    "        \"in-app analytics\",\n",
    "        \"in-app analytics\",\n",
    "        \"mediawiki content db\",\n",
    "        \"in-app analytics\",\n",
    "        \"in-app analytics\",\n",
    "        \"Suggested Edits backend db\",\n",
    "        \"mediawiki content db\",\n",
    "        \"mediawiki content db\",\n",
    "        \"in-app analytics\",\n",
    "        \"in-app analytics\"\n",
    "    ),\n",
    "    stringsAsFactors = FALSE\n",
    ") %>%\n",
    "    dplyr::mutate_all(~ ifelse(is.na(.x), \"-\", .x)) %>%\n",
    "    set_rownames(metric_labels)"
   ]
  },
  {
   "cell_type": "code",
   "execution_count": 43,
   "metadata": {},
   "outputs": [
    {
     "data": {
      "text/html": [
       "<table>\n",
       "<caption>A data.frame: 16 × 4</caption>\n",
       "<thead>\n",
       "\t<tr><th></th><th scope=col>daily_average</th><th scope=col>monthly_total</th><th scope=col>value</th><th scope=col>source</th></tr>\n",
       "\t<tr><th></th><th scope=col>&lt;chr&gt;</th><th scope=col>&lt;chr&gt;</th><th scope=col>&lt;chr&gt;</th><th scope=col>&lt;chr&gt;</th></tr>\n",
       "</thead>\n",
       "<tbody>\n",
       "\t<tr><th scope=row>Total number of unique users</th><td>2 324 316                 </td><td>4 519 789               </td><td>-                         </td><td>in-app analytics          </td></tr>\n",
       "\t<tr><th scope=row>Average session time per user</th><td>-                         </td><td>-                       </td><td>1m 19s                    </td><td>in-app analytics          </td></tr>\n",
       "\t<tr><th scope=row>Total number of unique users that have set multiple languages in the app</th><td>-                         </td><td>-                       </td><td>25.9% (1.1M out of 4.2M)  </td><td>in-app analytics          </td></tr>\n",
       "\t<tr><th scope=row>Total number of unique users that have been logged in to Wikipedia in the app</th><td>-                         </td><td>-                       </td><td>5.0% (207.8K out of 4.2M) </td><td>in-app analytics          </td></tr>\n",
       "\t<tr><th scope=row>Total number of unique users who were at least on one article page</th><td>25.5% (593.7K out of 2.3M)</td><td>71.5% (3.2M out of 4.5M)</td><td>-                         </td><td>in-app analytics          </td></tr>\n",
       "\t<tr><th scope=row>Average session time of users on an article page</th><td>-                         </td><td>-                       </td><td>8s                        </td><td>in-app analytics          </td></tr>\n",
       "\t<tr><th scope=row>Total number of unique users that have made an edit</th><td>609                       </td><td>10 604                  </td><td>-                         </td><td>in-app analytics          </td></tr>\n",
       "\t<tr><th scope=row>Average session time of users that made an edit</th><td>-                         </td><td>-                       </td><td>5m 36s                    </td><td>in-app analytics          </td></tr>\n",
       "\t<tr><th scope=row>Total number of unique users that have made an edit in “Suggested edits”</th><td>15                        </td><td>203                     </td><td>-                         </td><td>mediawiki content db      </td></tr>\n",
       "\t<tr><th scope=row>Average session time of ”Suggested edits” users</th><td>-                         </td><td>-                       </td><td>12m 50s                   </td><td>in-app analytics          </td></tr>\n",
       "\t<tr><th scope=row>Median time spent in “Suggested Edits”</th><td>-                         </td><td>-                       </td><td>37s                       </td><td>in-app analytics          </td></tr>\n",
       "\t<tr><th scope=row>Total number of unique users that have unlocked at least one “Suggested edits” feature</th><td>-                         </td><td>-                       </td><td>30.3% (1.48K out of 4.89K)</td><td>Suggested Edits backend db</td></tr>\n",
       "\t<tr><th scope=row>Total number of article description edits in the app (add, translate, edit)</th><td>751                       </td><td>68 298                  </td><td>-                         </td><td>mediawiki content db      </td></tr>\n",
       "\t<tr><th scope=row>Total number of article description edits in the app via Suggested edits (add, translate)</th><td>146                       </td><td>13 282                  </td><td>-                         </td><td>mediawiki content db      </td></tr>\n",
       "\t<tr><th scope=row>Total number of unique users in Explore feed</th><td>3 683                     </td><td>25 246                  </td><td>-                         </td><td>in-app analytics          </td></tr>\n",
       "\t<tr><th scope=row>Average time spent in Explore feed</th><td>-                         </td><td>-                       </td><td>15m 14s                   </td><td>in-app analytics          </td></tr>\n",
       "</tbody>\n",
       "</table>\n"
      ],
      "text/latex": [
       "A data.frame: 16 × 4\n",
       "\\begin{tabular}{r|llll}\n",
       "  & daily\\_average & monthly\\_total & value & source\\\\\n",
       "  & <chr> & <chr> & <chr> & <chr>\\\\\n",
       "\\hline\n",
       "\tTotal number of unique users & 2 324 316                  & 4 519 789                & -                          & in-app analytics          \\\\\n",
       "\tAverage session time per user & -                          & -                        & 1m 19s                     & in-app analytics          \\\\\n",
       "\tTotal number of unique users that have set multiple languages in the app & -                          & -                        & 25.9\\% (1.1M out of 4.2M)   & in-app analytics          \\\\\n",
       "\tTotal number of unique users that have been logged in to Wikipedia in the app & -                          & -                        & 5.0\\% (207.8K out of 4.2M)  & in-app analytics          \\\\\n",
       "\tTotal number of unique users who were at least on one article page & 25.5\\% (593.7K out of 2.3M) & 71.5\\% (3.2M out of 4.5M) & -                          & in-app analytics          \\\\\n",
       "\tAverage session time of users on an article page & -                          & -                        & 8s                         & in-app analytics          \\\\\n",
       "\tTotal number of unique users that have made an edit & 609                        & 10 604                   & -                          & in-app analytics          \\\\\n",
       "\tAverage session time of users that made an edit & -                          & -                        & 5m 36s                     & in-app analytics          \\\\\n",
       "\tTotal number of unique users that have made an edit in “Suggested edits” & 15                         & 203                      & -                          & mediawiki content db      \\\\\n",
       "\tAverage session time of ”Suggested edits” users & -                          & -                        & 12m 50s                    & in-app analytics          \\\\\n",
       "\tMedian time spent in “Suggested Edits” & -                          & -                        & 37s                        & in-app analytics          \\\\\n",
       "\tTotal number of unique users that have unlocked at least one “Suggested edits” feature & -                          & -                        & 30.3\\% (1.48K out of 4.89K) & Suggested Edits backend db\\\\\n",
       "\tTotal number of article description edits in the app (add, translate, edit) & 751                        & 68 298                   & -                          & mediawiki content db      \\\\\n",
       "\tTotal number of article description edits in the app via Suggested edits (add, translate) & 146                        & 13 282                   & -                          & mediawiki content db      \\\\\n",
       "\tTotal number of unique users in Explore feed & 3 683                      & 25 246                   & -                          & in-app analytics          \\\\\n",
       "\tAverage time spent in Explore feed & -                          & -                        & 15m 14s                    & in-app analytics          \\\\\n",
       "\\end{tabular}\n"
      ],
      "text/markdown": [
       "\n",
       "A data.frame: 16 × 4\n",
       "\n",
       "| <!--/--> | daily_average &lt;chr&gt; | monthly_total &lt;chr&gt; | value &lt;chr&gt; | source &lt;chr&gt; |\n",
       "|---|---|---|---|---|\n",
       "| Total number of unique users | 2 324 316                  | 4 519 789                | -                          | in-app analytics           |\n",
       "| Average session time per user | -                          | -                        | 1m 19s                     | in-app analytics           |\n",
       "| Total number of unique users that have set multiple languages in the app | -                          | -                        | 25.9% (1.1M out of 4.2M)   | in-app analytics           |\n",
       "| Total number of unique users that have been logged in to Wikipedia in the app | -                          | -                        | 5.0% (207.8K out of 4.2M)  | in-app analytics           |\n",
       "| Total number of unique users who were at least on one article page | 25.5% (593.7K out of 2.3M) | 71.5% (3.2M out of 4.5M) | -                          | in-app analytics           |\n",
       "| Average session time of users on an article page | -                          | -                        | 8s                         | in-app analytics           |\n",
       "| Total number of unique users that have made an edit | 609                        | 10 604                   | -                          | in-app analytics           |\n",
       "| Average session time of users that made an edit | -                          | -                        | 5m 36s                     | in-app analytics           |\n",
       "| Total number of unique users that have made an edit in “Suggested edits” | 15                         | 203                      | -                          | mediawiki content db       |\n",
       "| Average session time of ”Suggested edits” users | -                          | -                        | 12m 50s                    | in-app analytics           |\n",
       "| Median time spent in “Suggested Edits” | -                          | -                        | 37s                        | in-app analytics           |\n",
       "| Total number of unique users that have unlocked at least one “Suggested edits” feature | -                          | -                        | 30.3% (1.48K out of 4.89K) | Suggested Edits backend db |\n",
       "| Total number of article description edits in the app (add, translate, edit) | 751                        | 68 298                   | -                          | mediawiki content db       |\n",
       "| Total number of article description edits in the app via Suggested edits (add, translate) | 146                        | 13 282                   | -                          | mediawiki content db       |\n",
       "| Total number of unique users in Explore feed | 3 683                      | 25 246                   | -                          | in-app analytics           |\n",
       "| Average time spent in Explore feed | -                          | -                        | 15m 14s                    | in-app analytics           |\n",
       "\n"
      ],
      "text/plain": [
       "                                                                                          daily_average             \n",
       "Total number of unique users                                                              2 324 316                 \n",
       "Average session time per user                                                             -                         \n",
       "Total number of unique users that have set multiple languages in the app                  -                         \n",
       "Total number of unique users that have been logged in to Wikipedia in the app             -                         \n",
       "Total number of unique users who were at least on one article page                        25.5% (593.7K out of 2.3M)\n",
       "Average session time of users on an article page                                          -                         \n",
       "Total number of unique users that have made an edit                                       609                       \n",
       "Average session time of users that made an edit                                           -                         \n",
       "Total number of unique users that have made an edit in “Suggested edits”                  15                        \n",
       "Average session time of ”Suggested edits” users                                           -                         \n",
       "Median time spent in “Suggested Edits”                                                    -                         \n",
       "Total number of unique users that have unlocked at least one “Suggested edits” feature    -                         \n",
       "Total number of article description edits in the app (add, translate, edit)               751                       \n",
       "Total number of article description edits in the app via Suggested edits (add, translate) 146                       \n",
       "Total number of unique users in Explore feed                                              3 683                     \n",
       "Average time spent in Explore feed                                                        -                         \n",
       "                                                                                          monthly_total           \n",
       "Total number of unique users                                                              4 519 789               \n",
       "Average session time per user                                                             -                       \n",
       "Total number of unique users that have set multiple languages in the app                  -                       \n",
       "Total number of unique users that have been logged in to Wikipedia in the app             -                       \n",
       "Total number of unique users who were at least on one article page                        71.5% (3.2M out of 4.5M)\n",
       "Average session time of users on an article page                                          -                       \n",
       "Total number of unique users that have made an edit                                       10 604                  \n",
       "Average session time of users that made an edit                                           -                       \n",
       "Total number of unique users that have made an edit in “Suggested edits”                  203                     \n",
       "Average session time of ”Suggested edits” users                                           -                       \n",
       "Median time spent in “Suggested Edits”                                                    -                       \n",
       "Total number of unique users that have unlocked at least one “Suggested edits” feature    -                       \n",
       "Total number of article description edits in the app (add, translate, edit)               68 298                  \n",
       "Total number of article description edits in the app via Suggested edits (add, translate) 13 282                  \n",
       "Total number of unique users in Explore feed                                              25 246                  \n",
       "Average time spent in Explore feed                                                        -                       \n",
       "                                                                                          value                     \n",
       "Total number of unique users                                                              -                         \n",
       "Average session time per user                                                             1m 19s                    \n",
       "Total number of unique users that have set multiple languages in the app                  25.9% (1.1M out of 4.2M)  \n",
       "Total number of unique users that have been logged in to Wikipedia in the app             5.0% (207.8K out of 4.2M) \n",
       "Total number of unique users who were at least on one article page                        -                         \n",
       "Average session time of users on an article page                                          8s                        \n",
       "Total number of unique users that have made an edit                                       -                         \n",
       "Average session time of users that made an edit                                           5m 36s                    \n",
       "Total number of unique users that have made an edit in “Suggested edits”                  -                         \n",
       "Average session time of ”Suggested edits” users                                           12m 50s                   \n",
       "Median time spent in “Suggested Edits”                                                    37s                       \n",
       "Total number of unique users that have unlocked at least one “Suggested edits” feature    30.3% (1.48K out of 4.89K)\n",
       "Total number of article description edits in the app (add, translate, edit)               -                         \n",
       "Total number of article description edits in the app via Suggested edits (add, translate) -                         \n",
       "Total number of unique users in Explore feed                                              -                         \n",
       "Average time spent in Explore feed                                                        15m 14s                   \n",
       "                                                                                          source                    \n",
       "Total number of unique users                                                              in-app analytics          \n",
       "Average session time per user                                                             in-app analytics          \n",
       "Total number of unique users that have set multiple languages in the app                  in-app analytics          \n",
       "Total number of unique users that have been logged in to Wikipedia in the app             in-app analytics          \n",
       "Total number of unique users who were at least on one article page                        in-app analytics          \n",
       "Average session time of users on an article page                                          in-app analytics          \n",
       "Total number of unique users that have made an edit                                       in-app analytics          \n",
       "Average session time of users that made an edit                                           in-app analytics          \n",
       "Total number of unique users that have made an edit in “Suggested edits”                  mediawiki content db      \n",
       "Average session time of ”Suggested edits” users                                           in-app analytics          \n",
       "Median time spent in “Suggested Edits”                                                    in-app analytics          \n",
       "Total number of unique users that have unlocked at least one “Suggested edits” feature    Suggested Edits backend db\n",
       "Total number of article description edits in the app (add, translate, edit)               mediawiki content db      \n",
       "Total number of article description edits in the app via Suggested edits (add, translate) mediawiki content db      \n",
       "Total number of unique users in Explore feed                                              in-app analytics          \n",
       "Average time spent in Explore feed                                                        in-app analytics          "
      ]
     },
     "metadata": {},
     "output_type": "display_data"
    }
   ],
   "source": [
    "metrics"
   ]
  },
  {
   "cell_type": "code",
   "execution_count": 44,
   "metadata": {},
   "outputs": [],
   "source": [
    "index <- \"<a href=\\\"index.html\\\" title=\\\"Index of monthly metric reports\\\">⬅</a>\"\n",
    "metrics %>%\n",
    "    knitr::kable(\n",
    "        format = \"html\",\n",
    "        caption = glue(\"{index} Wikipedia Android app metrics for {month.name[month]} {year}\"),\n",
    "        col.names = c(\"Daily average\", \"Monthly total\", \"Value\", \"Source\"),\n",
    "        align = c(\"r\", \"r\", \"r\", \"l\"),\n",
    "        escape = FALSE\n",
    "    ) %>%\n",
    "    kableExtra::kable_styling(\n",
    "        bootstrap_options = c(\"striped\", \"hover\"),\n",
    "        full_width = FALSE,\n",
    "        font_size = 14\n",
    "    ) %>%\n",
    "    kableExtra::save_kable(\n",
    "        file = file.path(\"output\", glue(\"{yyyy_mm}.html\")),\n",
    "        self_contained = TRUE,\n",
    "        bs_theme = \"united\"\n",
    "    )"
   ]
  },
  {
   "cell_type": "markdown",
   "metadata": {},
   "source": [
    "## Update index"
   ]
  },
  {
   "cell_type": "code",
   "execution_count": 45,
   "metadata": {},
   "outputs": [],
   "source": [
    "all_reports <- dplyr::tibble(filename = dir(\"output\", \"[0-9]{4}-[0-9]{2}\\\\.html\"))"
   ]
  },
  {
   "cell_type": "code",
   "execution_count": 46,
   "metadata": {},
   "outputs": [],
   "source": [
    "all_reports %>%\n",
    "    mutate(\n",
    "        name = sub(\".html\", \"\", filename, fixed = TRUE),\n",
    "        year = sub(\"([0-9]{4})-([0-9]{2})\", \"\\\\1\", name),\n",
    "        month = month.name[as.numeric(sub(\"([0-9]{4})-([0-9]{2})\", \"\\\\2\", name))],\n",
    "        link = paste0(\"<a href=\\\"\", filename, \"\\\">\", month, \" \", year, \"</a>\")\n",
    "    ) %>%\n",
    "    arrange(dplyr::desc(name)) %>%\n",
    "    select(link) %>%\n",
    "    knitr::kable(\n",
    "        format = \"html\",\n",
    "        # caption = \"Wikipedia Android app metrics\",\n",
    "        col.names = c(\"Month\"),\n",
    "        align = c(\"l\"),\n",
    "        escape = FALSE\n",
    "    ) %>%\n",
    "    kableExtra::kable_styling(\n",
    "        bootstrap_options = c(\"striped\", \"hover\"),\n",
    "        full_width = FALSE,\n",
    "        font_size = 14\n",
    "    ) %>%\n",
    "    kableExtra::save_kable(\n",
    "        file = file.path(\"output\", \"index.html\"),\n",
    "        self_contained = TRUE,\n",
    "        bs_theme = \"united\"\n",
    "    )"
   ]
  },
  {
   "cell_type": "code",
   "execution_count": null,
   "metadata": {},
   "outputs": [],
   "source": []
  }
 ],
 "metadata": {
  "kernelspec": {
   "display_name": "R",
   "language": "R",
   "name": "ir"
  },
  "language_info": {
   "codemirror_mode": "r",
   "file_extension": ".r",
   "mimetype": "text/x-r-source",
   "name": "R",
   "pygments_lexer": "r",
   "version": "3.3.3"
  }
 },
 "nbformat": 4,
 "nbformat_minor": 4
}
